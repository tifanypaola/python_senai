{
 "cells": [
  {
   "cell_type": "code",
   "execution_count": null,
   "metadata": {},
   "outputs": [],
   "source": []
  },
  {
   "cell_type": "markdown",
   "metadata": {},
   "source": [
    "# Relembrando Variaveis\n",
    "\n",
    "tipos: \n",
    "\n",
    "- int()\n",
    "- str()\n",
    "- float()\n",
    "- bool()\n",
    "- list()\n",
    "- tuple()\n",
    "- dict()"
   ]
  },
  {
   "cell_type": "code",
   "execution_count": 47,
   "metadata": {},
   "outputs": [],
   "source": [
    "numero = 1 \n",
    "nome = 'Tifany'\n",
    "numero_decimal = 10.9\n",
    "sera = True\n",
    "frutas = ['Pêra', 'morango', 'uva',]\n",
    "carros = ('gol', 'uno', 'fusca')\n",
    "pessoa = {'nome': 'Tifany', 'Idade':18, 'altura':1.67}"
   ]
  },
  {
   "cell_type": "code",
   "execution_count": 48,
   "metadata": {},
   "outputs": [
    {
     "name": "stdout",
     "output_type": "stream",
     "text": [
      "O nome está correto\n"
     ]
    }
   ],
   "source": [
    "if nome == 'Tifany':\n",
    "    print('O nome está correto')\n",
    "else:\n",
    "    print('o nome na variavel nao é luciano')"
   ]
  },
  {
   "cell_type": "code",
   "execution_count": 49,
   "metadata": {},
   "outputs": [
    {
     "ename": "IndentationError",
     "evalue": "expected an indented block after 'match' statement on line 1 (2501914618.py, line 3)",
     "output_type": "error",
     "traceback": [
      "\u001b[1;36m  Cell \u001b[1;32mIn[49], line 3\u001b[1;36m\u001b[0m\n\u001b[1;33m    case 1:\u001b[0m\n\u001b[1;37m    ^\u001b[0m\n\u001b[1;31mIndentationError\u001b[0m\u001b[1;31m:\u001b[0m expected an indented block after 'match' statement on line 1\n"
     ]
    }
   ],
   "source": [
    "match numero:\n",
    "\n",
    "case 1:\n",
    "    print('opção 1')\n",
    "case 2:\n",
    "    print('opção 2')\n",
    "case 3:\n",
    "    print('opção 3')"
   ]
  },
  {
   "cell_type": "markdown",
   "metadata": {},
   "source": [
    "# Laços de repetição\n",
    "\n",
    "- for\n",
    "- while"
   ]
  },
  {
   "cell_type": "code",
   "execution_count": null,
   "metadata": {},
   "outputs": [
    {
     "name": "stdout",
     "output_type": "stream",
     "text": [
      "O numero é: 0\n",
      "O numero é: 1\n",
      "O numero é: 2\n",
      "O numero é: 3\n",
      "O numero é: 4\n"
     ]
    }
   ],
   "source": [
    "for numero in range (5)\n",
    "   print(f'O numero é: {numero} ')"
   ]
  },
  {
   "cell_type": "code",
   "execution_count": null,
   "metadata": {},
   "outputs": [
    {
     "name": "stdout",
     "output_type": "stream",
     "text": [
      "O contador é:0\n",
      "O contador é:1\n",
      "O contador é:2\n",
      "O contador é:3\n",
      "O contador é:4\n",
      "O contador é:5\n"
     ]
    }
   ],
   "source": [
    "contador = 0 \n",
    "while contador <=5:\n",
    "    print(f'O contador é:{contador}')\n",
    "    contador += 1"
   ]
  },
  {
   "cell_type": "markdown",
   "metadata": {},
   "source": [
    "## Metodos de string \n",
    "- upper\n",
    "- lower\n",
    "- capitalize\n",
    "- split\n",
    "- strip\n",
    "- slice\n",
    "- replace\n",
    "- join\n"
   ]
  },
  {
   "cell_type": "code",
   "execution_count": null,
   "metadata": {},
   "outputs": [
    {
     "name": "stdout",
     "output_type": "stream",
     "text": [
      "tifany paola pereira lima\n",
      "Tifany paola pereira lima\n",
      "TIFANY PAOLA PEREIRA LIMA\n",
      "Tifany Paola Pereira Lima\n",
      "Tifany Paola Pereira Lima\n",
      "['Tifany', 'Paola', 'Pereira', 'Lima']\n",
      "Tifany-Paola\n",
      "aola \n"
     ]
    }
   ],
   "source": [
    "aluno = 'Tifany Paola Pereira Lima'\n",
    "alunos = ['Tifany', 'Paola']\n",
    "print(aluno.lower()) # deixa minusculo\n",
    "print(aluno.capitalize()) # deia a primeira letra maiuscula\n",
    "print(aluno.upper()) # deixa maiuscula\n",
    "print(aluno.strip()) # remove espaços \n",
    "print(aluno.replace('pereira', 'lima')) # substitui uma sequencia de caracter por outra\n",
    "print(aluno.split()) # cria uma lista com as palavras encontradas da string\n",
    "print('-'.join(alunos)) # transforma uma lista em uma string com o caracter desejado de separador\n",
    "print(aluno[8:13]) # corta a string no intervalo de caracteres fornecidos\n"
   ]
  },
  {
   "cell_type": "markdown",
   "metadata": {},
   "source": [
    "# Metodos de lista\n",
    "- append\n",
    "- extend\n",
    "- insert\n",
    "- remove \n",
    "- pop\n",
    "- index\n",
    "- del\n",
    "- sort\n",
    "- reverse"
   ]
  },
  {
   "cell_type": "code",
   "execution_count": null,
   "metadata": {},
   "outputs": [],
   "source": [
    "produtos = ['notebook', 'smartphone', 'smart tv']\n",
    "\n",
    "produtos.append('fliperama')\n",
    "print(produtos)\n",
    "produtos.extend(['sofá', 'mesa', 'puff'])\n",
    "print(produtos)\n",
    "produtos.insert(3, 'playstation 5')\n",
    "print(produtos)\n",
    "produtos.pop(1)\n",
    "print(produtos)\n",
    "produtos.remove('smart tv')\n",
    "print(produtos)\n",
    "produtos.index('notebook')\n",
    "print(produtos)\n",
    "produtos.sort()\n",
    "print(produtos)\n",
    "produtos.reverse()\n",
    "print(produtos)"
   ]
  },
  {
   "cell_type": "markdown",
   "metadata": {},
   "source": [
    "## Funções\n",
    "\n",
    "São objetos capazes de armanezar um bloco de codigo e depois podem ser reaproveitados em outro momento do codigo, somente chamado pelo seu nome.\n",
    "\n",
    "Tipos:\n",
    "- função sem retorno\n",
    "- função com retorno\n",
    "- função com parametros\n",
    "- função sem parametros \n",
    "- função lamda\n",
    "- função com multiplos parametros\n",
    "    - parametros posicionais \n",
    "    - parametros nomeados \n",
    "- funçoes recursivas"
   ]
  },
  {
   "cell_type": "code",
   "execution_count": null,
   "metadata": {},
   "outputs": [],
   "source": [
    "def saudacao():\n",
    "    print('Hello Wolrd')\n",
    "    "
   ]
  },
  {
   "cell_type": "code",
   "execution_count": null,
   "metadata": {},
   "outputs": [
    {
     "name": "stdout",
     "output_type": "stream",
     "text": [
      "Hello Wolrd\n"
     ]
    }
   ],
   "source": [
    "saudacao()"
   ]
  },
  {
   "cell_type": "code",
   "execution_count": null,
   "metadata": {},
   "outputs": [],
   "source": [
    "# Função com retorno\n",
    "\n",
    "def somar():\n",
    "    soma = 10 + 25\n",
    "    return soma "
   ]
  },
  {
   "cell_type": "code",
   "execution_count": null,
   "metadata": {},
   "outputs": [
    {
     "name": "stdout",
     "output_type": "stream",
     "text": [
      "35\n"
     ]
    }
   ],
   "source": [
    "print(somar())"
   ]
  },
  {
   "cell_type": "code",
   "execution_count": null,
   "metadata": {},
   "outputs": [],
   "source": [
    "# com parametros\n",
    "\n",
    "def somar2( numero1, numero2):\n",
    "    soma = numero1 + numero2"
   ]
  },
  {
   "cell_type": "code",
   "execution_count": null,
   "metadata": {},
   "outputs": [],
   "source": [
    "somar2(5, 8)"
   ]
  },
  {
   "cell_type": "code",
   "execution_count": null,
   "metadata": {},
   "outputs": [],
   "source": [
    "# Função lambda\n",
    "\n",
    "soma_lambda = lambda numero1, numero2 : numero1 + numero2\n"
   ]
  },
  {
   "cell_type": "code",
   "execution_count": null,
   "metadata": {},
   "outputs": [
    {
     "data": {
      "text/plain": [
       "178"
      ]
     },
     "execution_count": 25,
     "metadata": {},
     "output_type": "execute_result"
    }
   ],
   "source": [
    "soma_lambda(78, 100)"
   ]
  },
  {
   "cell_type": "code",
   "execution_count": null,
   "metadata": {},
   "outputs": [],
   "source": [
    "# função com multiplos parametros posicionais \n",
    "\n",
    "def somar3 (*numero):\n",
    "    resultado = sum(numero)\n",
    "    return resultado\n"
   ]
  },
  {
   "cell_type": "code",
   "execution_count": null,
   "metadata": {},
   "outputs": [
    {
     "data": {
      "text/plain": [
       "101"
      ]
     },
     "execution_count": 44,
     "metadata": {},
     "output_type": "execute_result"
    }
   ],
   "source": [
    "somar3(1 , 12, 25, 26, 27, 10)"
   ]
  },
  {
   "cell_type": "code",
   "execution_count": null,
   "metadata": {},
   "outputs": [],
   "source": [
    "# função multiplos parametros nomeados \n",
    "\n",
    "def gerar_produto (**parametros):\n",
    "    produto = parametros\n",
    "    return produto"
   ]
  },
  {
   "cell_type": "code",
   "execution_count": 50,
   "metadata": {},
   "outputs": [
    {
     "data": {
      "text/plain": [
       "{'nome': 'notebook', 'preco': 3000.0, 'fabricante': 'samsung'}"
      ]
     },
     "execution_count": 50,
     "metadata": {},
     "output_type": "execute_result"
    }
   ],
   "source": [
    "gerar_produto(nome='notebook', preco= 3000.00, fabricante= 'samsung')"
   ]
  },
  {
   "cell_type": "code",
   "execution_count": 57,
   "metadata": {},
   "outputs": [
    {
     "ename": "SyntaxError",
     "evalue": "'return' outside function (3829353712.py, line 7)",
     "output_type": "error",
     "traceback": [
      "\u001b[1;36m  Cell \u001b[1;32mIn[57], line 7\u001b[1;36m\u001b[0m\n\u001b[1;33m    return resultado\u001b[0m\n\u001b[1;37m    ^\u001b[0m\n\u001b[1;31mSyntaxError\u001b[0m\u001b[1;31m:\u001b[0m 'return' outside function\n"
     ]
    }
   ],
   "source": [
    "# funções recursivas \n",
    "\n",
    "def calcula_fatorial(numero):\n",
    "    resultado = 1 \n",
    "    for i in range(1 , numero + 1):\n",
    "        resultado *= i\n",
    "return  resultado"
   ]
  },
  {
   "cell_type": "code",
   "execution_count": 56,
   "metadata": {},
   "outputs": [
    {
     "ename": "NameError",
     "evalue": "name 'calcula_fatorial' is not defined",
     "output_type": "error",
     "traceback": [
      "\u001b[1;31m---------------------------------------------------------------------------\u001b[0m",
      "\u001b[1;31mNameError\u001b[0m                                 Traceback (most recent call last)",
      "Cell \u001b[1;32mIn[56], line 1\u001b[0m\n\u001b[1;32m----> 1\u001b[0m \u001b[43mcalcula_fatorial\u001b[49m(\u001b[38;5;241m5\u001b[39m)\n",
      "\u001b[1;31mNameError\u001b[0m: name 'calcula_fatorial' is not defined"
     ]
    }
   ],
   "source": [
    "calcula_fatorial(5)"
   ]
  },
  {
   "cell_type": "code",
   "execution_count": 63,
   "metadata": {},
   "outputs": [],
   "source": [
    "def calcula_fatorial12(numero):\n",
    "    if numero == 0 or numero == 1:\n",
    "        return 1\n",
    "    else: \n",
    "     return numero * calcula_fatorial(numero-1)\n",
    "\n"
   ]
  },
  {
   "cell_type": "code",
   "execution_count": 64,
   "metadata": {},
   "outputs": [
    {
     "ename": "TypeError",
     "evalue": "unsupported operand type(s) for *: 'int' and 'NoneType'",
     "output_type": "error",
     "traceback": [
      "\u001b[1;31m---------------------------------------------------------------------------\u001b[0m",
      "\u001b[1;31mTypeError\u001b[0m                                 Traceback (most recent call last)",
      "Cell \u001b[1;32mIn[64], line 1\u001b[0m\n\u001b[1;32m----> 1\u001b[0m \u001b[38;5;28mprint\u001b[39m(\u001b[43mcalcula_fatorial12\u001b[49m\u001b[43m(\u001b[49m\u001b[38;5;241;43m5\u001b[39;49m\u001b[43m)\u001b[49m)\n",
      "Cell \u001b[1;32mIn[63], line 5\u001b[0m, in \u001b[0;36mcalcula_fatorial12\u001b[1;34m(numero)\u001b[0m\n\u001b[0;32m      3\u001b[0m     \u001b[38;5;28;01mreturn\u001b[39;00m \u001b[38;5;241m1\u001b[39m\n\u001b[0;32m      4\u001b[0m \u001b[38;5;28;01melse\u001b[39;00m: \n\u001b[1;32m----> 5\u001b[0m  \u001b[38;5;28;01mreturn\u001b[39;00m \u001b[43mnumero\u001b[49m\u001b[43m \u001b[49m\u001b[38;5;241;43m*\u001b[39;49m\u001b[43m \u001b[49m\u001b[43mcalcula_fatorial\u001b[49m\u001b[43m(\u001b[49m\u001b[43mnumero\u001b[49m\u001b[38;5;241;43m-\u001b[39;49m\u001b[38;5;241;43m1\u001b[39;49m\u001b[43m)\u001b[49m\n",
      "\u001b[1;31mTypeError\u001b[0m: unsupported operand type(s) for *: 'int' and 'NoneType'"
     ]
    }
   ],
   "source": [
    "print(calcula_fatorial12(5))"
   ]
  }
 ],
 "metadata": {
  "interpreter": {
   "hash": "023695796a0456db28915f727eb64cb942055160ea749933aa044f2070f70f3a"
  },
  "kernelspec": {
   "display_name": "Python 3.12.5 64-bit (windows store)",
   "language": "python",
   "name": "python3"
  },
  "language_info": {
   "name": "python",
   "version": "3.12.5"
  },
  "orig_nbformat": 4
 },
 "nbformat": 4,
 "nbformat_minor": 2
}
