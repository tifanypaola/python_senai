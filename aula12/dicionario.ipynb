{
 "cells": [
  {
   "cell_type": "markdown",
   "metadata": {},
   "source": [
    "# Dicionario\n",
    "\n",
    "É um conjunto de chaves e valores  que distiguem um objeto. Estas chaves nos chamamos de KEYS e seus valores de VALUES. É um tipo especial de variavel python identificada pelas {}."
   ]
  },
  {
   "cell_type": "code",
   "execution_count": 5,
   "metadata": {},
   "outputs": [
    {
     "name": "stdout",
     "output_type": "stream",
     "text": [
      "{'nome': 'Tifany', 'idade': 18, 'cidade': 'São Paulo'}\n"
     ]
    }
   ],
   "source": [
    "pessoa = {\n",
    "    'nome': 'Tifany',\n",
    "    'idade': 18 , \n",
    "    'cidade': 'São Paulo'\n",
    "}\n",
    "\n",
    "print(pessoa)\n"
   ]
  },
  {
   "cell_type": "code",
   "execution_count": 6,
   "metadata": {},
   "outputs": [
    {
     "data": {
      "text/plain": [
       "dict_values(['Tifany', 18, 'São Paulo'])"
      ]
     },
     "execution_count": 6,
     "metadata": {},
     "output_type": "execute_result"
    }
   ],
   "source": [
    "# Metodo KEYS()\n",
    "\n",
    "pessoa.keys()\n",
    "\n",
    "# Metodos VALUES()\n",
    "\n",
    "pessoa.values()\n",
    "\n"
   ]
  },
  {
   "cell_type": "code",
   "execution_count": 9,
   "metadata": {},
   "outputs": [
    {
     "data": {
      "text/plain": [
       "'Tifany'"
      ]
     },
     "execution_count": 9,
     "metadata": {},
     "output_type": "execute_result"
    }
   ],
   "source": [
    "# Olhando valores especificos de um dicionario \n",
    "\n",
    "pessoa['nome']"
   ]
  },
  {
   "cell_type": "code",
   "execution_count": 10,
   "metadata": {},
   "outputs": [
    {
     "name": "stdout",
     "output_type": "stream",
     "text": [
      "{'nome': 'Tifany', 'idade': 18, 'cidade': 'São Paulo'}\n",
      "{'nome': 'Tifany', 'idade': 18, 'cidade': 'Brasilia'}\n"
     ]
    }
   ],
   "source": [
    "# Atribuino o valor de uma chave \n",
    "\n",
    "print(pessoa)\n",
    "pessoa['cidade'] = 'Brasilia'\n",
    "print(pessoa)"
   ]
  },
  {
   "cell_type": "code",
   "execution_count": 14,
   "metadata": {},
   "outputs": [],
   "source": [
    "pessoa['email'] = 'luciano@teste.com'"
   ]
  },
  {
   "cell_type": "code",
   "execution_count": 16,
   "metadata": {},
   "outputs": [
    {
     "ename": "KeyError",
     "evalue": "'idade'",
     "output_type": "error",
     "traceback": [
      "\u001b[1;31m---------------------------------------------------------------------------\u001b[0m",
      "\u001b[1;31mKeyError\u001b[0m                                  Traceback (most recent call last)",
      "Cell \u001b[1;32mIn[16], line 2\u001b[0m\n\u001b[0;32m      1\u001b[0m \u001b[38;5;66;03m# excluindo uma chave com o seu valor\u001b[39;00m\n\u001b[1;32m----> 2\u001b[0m \u001b[38;5;28;01mdel\u001b[39;00m \u001b[43mpessoa\u001b[49m\u001b[43m[\u001b[49m\u001b[38;5;124;43m'\u001b[39;49m\u001b[38;5;124;43midade\u001b[39;49m\u001b[38;5;124;43m'\u001b[39;49m\u001b[43m]\u001b[49m\n\u001b[0;32m      4\u001b[0m pessoa\u001b[38;5;241m.\u001b[39mpop(\u001b[38;5;124m'\u001b[39m\u001b[38;5;124mcidade\u001b[39m\u001b[38;5;124m'\u001b[39m)\n\u001b[0;32m      6\u001b[0m \u001b[38;5;28mprint\u001b[39m(pessoa)\n",
      "\u001b[1;31mKeyError\u001b[0m: 'idade'"
     ]
    }
   ],
   "source": [
    "# excluindo uma chave com o seu valor\n",
    "del pessoa['idade']\n",
    "\n",
    "pessoa.pop('cidade')\n",
    "\n",
    "print(pessoa)"
   ]
  },
  {
   "cell_type": "code",
   "execution_count": 18,
   "metadata": {},
   "outputs": [],
   "source": [
    "def calcula_fatorial2(numero):\n",
    "    if numero == 0 or numero == 1:\n",
    "        return \n",
    "    else:\n",
    "        return numero * calcula_fatorial2(numero-1)"
   ]
  },
  {
   "cell_type": "code",
   "execution_count": 19,
   "metadata": {},
   "outputs": [],
   "source": [
    "alunos = [calcula_fatorial2]"
   ]
  },
  {
   "cell_type": "code",
   "execution_count": 21,
   "metadata": {},
   "outputs": [
    {
     "name": "stdout",
     "output_type": "stream",
     "text": [
      "0 {'nome': 'Daniel'}\n",
      "1 {'nome': 'Marcos'}\n",
      "2 {'nome': 'Luana'}\n",
      "3 {'nome': 'Francineide'}\n"
     ]
    }
   ],
   "source": [
    "alunos = [\n",
    "    {'nome': 'Daniel'},\n",
    "    {'nome': 'Marcos'},\n",
    "    {'nome': 'Luana'},\n",
    "    {'nome': 'Francineide'},\n",
    "]\n",
    "\n",
    "for indice, aluno in enumerate(alunos):\n",
    "    print(indice , aluno)"
   ]
  },
  {
   "cell_type": "code",
   "execution_count": 24,
   "metadata": {},
   "outputs": [
    {
     "name": "stdout",
     "output_type": "stream",
     "text": [
      "{'nome': 'Luana'}\n"
     ]
    }
   ],
   "source": [
    "print(alunos[2])"
   ]
  },
  {
   "cell_type": "code",
   "execution_count": 27,
   "metadata": {},
   "outputs": [
    {
     "name": "stdout",
     "output_type": "stream",
     "text": [
      "{'nome': 'Luana'}\n",
      "samambaia\n"
     ]
    }
   ],
   "source": [
    "print(alunos[2])\n",
    "\n",
    "alunos[2]['cidade'] = 'samambaia'\n",
    "print(alunos[2]['cidade'])"
   ]
  },
  {
   "cell_type": "code",
   "execution_count": 29,
   "metadata": {},
   "outputs": [
    {
     "name": "stdout",
     "output_type": "stream",
     "text": [
      "{'Daniel': {'matricula': '1234', 'escolaridade': 'superior'}, 'Luana': {'matricula': '5678', 'escolaridade': 'superior'}, 'Gilmar': {'matricula': '4321', 'escolaridade': 'superior'}, 'Felipe': {'matricula': '9874', 'escolaridade': 'medio'}}\n"
     ]
    }
   ],
   "source": [
    "alunos_dicionario = {\n",
    "'Daniel': { 'matricula':'1234', 'escolaridade':'superior'},\n",
    "'Luana':  { 'matricula':'5678', 'escolaridade':'superior'},\n",
    "'Gilmar': { 'matricula':'4321', 'escolaridade':'superior'},\n",
    "'Felipe': { 'matricula':'9874', 'escolaridade':'medio'},\n",
    "\n",
    "\n",
    "\n",
    "}\n",
    "\n",
    "print(alunos_dicionario)"
   ]
  },
  {
   "cell_type": "code",
   "execution_count": 31,
   "metadata": {},
   "outputs": [
    {
     "name": "stdout",
     "output_type": "stream",
     "text": [
      "medio\n"
     ]
    }
   ],
   "source": [
    "print(alunos_dicionario['Felipe']['escolaridade'])"
   ]
  }
 ],
 "metadata": {
  "interpreter": {
   "hash": "023695796a0456db28915f727eb64cb942055160ea749933aa044f2070f70f3a"
  },
  "kernelspec": {
   "display_name": "Python 3.12.5 64-bit (windows store)",
   "language": "python",
   "name": "python3"
  },
  "language_info": {
   "codemirror_mode": {
    "name": "ipython",
    "version": 3
   },
   "file_extension": ".py",
   "mimetype": "text/x-python",
   "name": "python",
   "nbconvert_exporter": "python",
   "pygments_lexer": "ipython3",
   "version": "3.12.5"
  },
  "orig_nbformat": 4
 },
 "nbformat": 4,
 "nbformat_minor": 2
}
